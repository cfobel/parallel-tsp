{
 "metadata": {
  "name": "",
  "signature": "sha256:71b41862f5c4dd0a913fc644b6c4af295b152764fea7df1a60c2128637630864"
 },
 "nbformat": 3,
 "nbformat_minor": 0,
 "worksheets": [
  {
   "cells": [
    {
     "cell_type": "code",
     "collapsed": false,
     "input": [
      "from collections import OrderedDict\n",
      "\n",
      "import numpy as np\n",
      "import pandas as pd\n",
      "from IPython.display import display\n",
      "\n",
      "\n",
      "seed = 1314\n",
      "\n",
      "np.random.seed(seed)\n",
      "\n",
      "cities_count = 5\n",
      "distinct_pairs = [(i, j)\n",
      "                  for i in xrange(cities_count)\n",
      "                  for j in xrange(i + 1, cities_count)]\n",
      "distances_dict = OrderedDict(zip(distinct_pairs,\n",
      "                                 np.random.randint(0, 100,\n",
      "                                                   cities_count *\n",
      "                                                   (cities_count - 1) / 2)))\n",
      "display(distances_dict.items())\n",
      "distances = np.zeros((cities_count, cities_count), dtype=int)\n",
      "# distances[map(list, distances_dict.keys())] = distances_dict.values()\n",
      "distances[zip(*distances_dict.keys())] = distances_dict.values()\n",
      "distances.T[zip(*distances_dict.keys())] = distances_dict.values()\n",
      "distances"
     ],
     "language": "python",
     "metadata": {},
     "outputs": [
      {
       "output_type": "stream",
       "stream": "stderr",
       "text": [
        "/home/christian/.virtualenvs/vpr-x64/local/lib/python2.7/site-packages/matplotlib/__init__.py:740: UserWarning: Found matplotlib configuration in ~/.matplotlib/. To conform with the XDG base directory standard, this configuration location has been deprecated on Linux, and the new location is now '/home/christian/.config'/matplotlib/. Please move your configuration there to ensure that matplotlib will continue to find it in the future.\n",
        "  _get_xdg_config_dir())\n"
       ]
      },
      {
       "metadata": {},
       "output_type": "display_data",
       "text": [
        "[((0, 1), 69),\n",
        " ((0, 2), 27),\n",
        " ((0, 3), 40),\n",
        " ((0, 4), 76),\n",
        " ((1, 2), 69),\n",
        " ((1, 3), 82),\n",
        " ((1, 4), 32),\n",
        " ((2, 3), 15),\n",
        " ((2, 4), 68),\n",
        " ((3, 4), 39)]"
       ]
      },
      {
       "metadata": {},
       "output_type": "pyout",
       "prompt_number": 1,
       "text": [
        "array([[ 0, 69, 27, 40, 76],\n",
        "       [69,  0, 69, 82, 32],\n",
        "       [27, 69,  0, 15, 68],\n",
        "       [40, 82, 15,  0, 39],\n",
        "       [76, 32, 68, 39,  0]])"
       ]
      }
     ],
     "prompt_number": 1
    },
    {
     "cell_type": "code",
     "collapsed": false,
     "input": [
      "def tour_cost(tour):\n",
      "    left_city = tour[range(-1, cities_count - 1)]\n",
      "    left_pairs = np.array([tour, left_city])\n",
      "    left_pair_costs = np.array([distances[tuple(p)] for p in left_pairs.T])\n",
      "    return left_pair_costs.sum()\n",
      "\n",
      "\n",
      "def city_costs(tour):\n",
      "    left_city = tour[range(-1, cities_count - 1)]\n",
      "    right_city = tour[range(-cities_count + 1, 1)]\n",
      "    left_pairs = np.array([tour, left_city])\n",
      "    right_pairs = np.array([tour, right_city])\n",
      "    left_pair_costs = np.array([distances[tuple(p)] for p in left_pairs.T])\n",
      "    right_pair_costs = np.array([distances[tuple(p)]\n",
      "                                 for p in right_pairs.T])\n",
      "    return left_pair_costs + right_pair_costs\n",
      "\n",
      "\n",
      "def city_delta_costs(tour, proposed_moves):\n",
      "    pre_costs = city_costs(tour)\n",
      "    left_city = tour[np.arange(-1, cities_count - 1) + proposed_moves]\n",
      "    right_city = tour[np.arange(-cities_count + 1, 1) + proposed_moves]\n",
      "    left_pairs = np.array([tour, left_city])\n",
      "    right_pairs = np.array([tour, right_city])\n",
      "    left_pair_costs = np.array([distances[tuple(p)] for p in left_pairs.T])\n",
      "    right_pair_costs = np.array([distances[tuple(p)]\n",
      "                                 for p in right_pairs.T])\n",
      "    return (left_pair_costs + right_pair_costs) - pre_costs"
     ],
     "language": "python",
     "metadata": {},
     "outputs": [],
     "prompt_number": 2
    },
    {
     "cell_type": "code",
     "collapsed": false,
     "input": [
      "tour = np.arange(cities_count)\n",
      "np.random.shuffle(tour)\n",
      "tour"
     ],
     "language": "python",
     "metadata": {},
     "outputs": [
      {
       "metadata": {},
       "output_type": "pyout",
       "prompt_number": 3,
       "text": [
        "array([2, 4, 1, 3, 0])"
       ]
      }
     ],
     "prompt_number": 3
    },
    {
     "cell_type": "code",
     "collapsed": false,
     "input": [
      "left_city = tour[range(-1, cities_count - 1)]\n",
      "left_city"
     ],
     "language": "python",
     "metadata": {},
     "outputs": [
      {
       "metadata": {},
       "output_type": "pyout",
       "prompt_number": 4,
       "text": [
        "array([0, 2, 4, 1, 3])"
       ]
      }
     ],
     "prompt_number": 4
    },
    {
     "cell_type": "code",
     "collapsed": false,
     "input": [
      "right_city = tour[range(-cities_count + 1, 1)]\n",
      "right_city"
     ],
     "language": "python",
     "metadata": {},
     "outputs": [
      {
       "metadata": {},
       "output_type": "pyout",
       "prompt_number": 5,
       "text": [
        "array([4, 1, 3, 0, 2])"
       ]
      }
     ],
     "prompt_number": 5
    },
    {
     "cell_type": "code",
     "collapsed": false,
     "input": [
      "left_pairs = np.array([tour, left_city])\n",
      "display(left_pairs)\n",
      "left_pair_costs = np.array([distances[tuple(p)] for p in left_pairs.T])\n",
      "left_pair_costs"
     ],
     "language": "python",
     "metadata": {},
     "outputs": [
      {
       "metadata": {},
       "output_type": "display_data",
       "text": [
        "array([[2, 4, 1, 3, 0],\n",
        "       [0, 2, 4, 1, 3]])"
       ]
      },
      {
       "metadata": {},
       "output_type": "pyout",
       "prompt_number": 6,
       "text": [
        "array([27, 68, 32, 82, 40])"
       ]
      }
     ],
     "prompt_number": 6
    },
    {
     "cell_type": "code",
     "collapsed": false,
     "input": [
      "total_cost = left_pair_costs.sum()\n",
      "total_cost"
     ],
     "language": "python",
     "metadata": {},
     "outputs": [
      {
       "metadata": {},
       "output_type": "pyout",
       "prompt_number": 7,
       "text": [
        "249"
       ]
      }
     ],
     "prompt_number": 7
    },
    {
     "cell_type": "code",
     "collapsed": false,
     "input": [
      "tour_cost(tour)"
     ],
     "language": "python",
     "metadata": {},
     "outputs": [
      {
       "metadata": {},
       "output_type": "pyout",
       "prompt_number": 8,
       "text": [
        "249"
       ]
      }
     ],
     "prompt_number": 8
    },
    {
     "cell_type": "code",
     "collapsed": false,
     "input": [
      "class MovePattern(object):\n",
      "    def __init__(self, magnitude, shift=0):\n",
      "        self.magnitude = magnitude\n",
      "        self.double_magnitude = 2 * magnitude\n",
      "        self.shift = shift\n",
      "\n",
      "    def __getitem__(self, i):\n",
      "        if self.magnitude == 0:\n",
      "            return 0\n",
      "        index = (i + 2 * self.double_magnitude -\n",
      "                 ((self.shift + self.magnitude + 1) % self.double_magnitude))\n",
      "        if (index % self.double_magnitude) < self.magnitude:\n",
      "            return self.magnitude\n",
      "        else:\n",
      "            return -self.magnitude\n",
      "        \n",
      "        \n",
      "def random_pattern_params(max_magnitude, extent, non_zero=True):\n",
      "    max_magnitude = min(extent - 1, max_magnitude)\n",
      "    magnitude = np.random.randint(0, max_magnitude + 1)\n",
      "    while non_zero and magnitude == 0:\n",
      "        magnitude = np.random.randint(0, max_magnitude + 1)\n",
      "\n",
      "    shift = 0\n",
      "\n",
      "    if magnitude > 0:\n",
      "        max_shift = 2 * magnitude - 1\n",
      "        if extent <= 2 * magnitude:\n",
      "            max_shift = magnitude - 1\n",
      "        shift = np.random.randint(max_shift + 1)\n",
      "\n",
      "    return magnitude, shift"
     ],
     "language": "python",
     "metadata": {},
     "outputs": [],
     "prompt_number": 9
    },
    {
     "cell_type": "code",
     "collapsed": false,
     "input": [
      "pattern_params = random_pattern_params(cities_count - 1, cities_count - 1)\n",
      "move_pattern = MovePattern(*pattern_params)\n",
      "proposed_moves = [move_pattern[i] for i in xrange(cities_count)]\n",
      "proposed_moves = [m if i + m >= 0 and i + m < cities_count else 0\n",
      "                  for i, m in enumerate(proposed_moves)]\n",
      "proposed_moves"
     ],
     "language": "python",
     "metadata": {},
     "outputs": [
      {
       "metadata": {},
       "output_type": "pyout",
       "prompt_number": 10,
       "text": [
        "[3, 3, 0, -3, -3]"
       ]
      }
     ],
     "prompt_number": 10
    },
    {
     "cell_type": "heading",
     "level": 3,
     "metadata": {},
     "source": [
      "Assign each pair of associated moves a common identifier"
     ]
    },
    {
     "cell_type": "code",
     "collapsed": false,
     "input": [
      "associated_move_pair_ids = np.array([i if m > 0 else i + m if m < 0 else -1\n",
      "                                     for i, m in enumerate(proposed_moves)])\n",
      "associated_move_pair_ids"
     ],
     "language": "python",
     "metadata": {},
     "outputs": [
      {
       "metadata": {},
       "output_type": "pyout",
       "prompt_number": 11,
       "text": [
        "array([ 0,  1, -1,  0,  1])"
       ]
      }
     ],
     "prompt_number": 11
    },
    {
     "cell_type": "heading",
     "level": 3,
     "metadata": {},
     "source": [
      "Compute total cost of tour with _all_ proposed moves applied"
     ]
    },
    {
     "cell_type": "code",
     "collapsed": false,
     "input": [
      "tour_cost(tour), tour_cost(tour[np.arange(cities_count) + proposed_moves])"
     ],
     "language": "python",
     "metadata": {},
     "outputs": [
      {
       "metadata": {},
       "output_type": "pyout",
       "prompt_number": 12,
       "text": [
        "(249, 285)"
       ]
      }
     ],
     "prompt_number": 12
    },
    {
     "cell_type": "code",
     "collapsed": false,
     "input": [
      "proposed_moves"
     ],
     "language": "python",
     "metadata": {},
     "outputs": [
      {
       "metadata": {},
       "output_type": "pyout",
       "prompt_number": 13,
       "text": [
        "[3, 3, 0, -3, -3]"
       ]
      }
     ],
     "prompt_number": 13
    },
    {
     "cell_type": "code",
     "collapsed": false,
     "input": [
      "tour"
     ],
     "language": "python",
     "metadata": {},
     "outputs": [
      {
       "metadata": {},
       "output_type": "pyout",
       "prompt_number": 14,
       "text": [
        "array([2, 4, 1, 3, 0])"
       ]
      }
     ],
     "prompt_number": 14
    },
    {
     "cell_type": "code",
     "collapsed": false,
     "input": [
      "delta_costs = city_delta_costs(tour, proposed_moves)\n",
      "delta_costs"
     ],
     "language": "python",
     "metadata": {},
     "outputs": [
      {
       "metadata": {},
       "output_type": "pyout",
       "prompt_number": 15,
       "text": [
        "array([  1,   7,   0, -43,  29])"
       ]
      }
     ],
     "prompt_number": 15
    },
    {
     "cell_type": "code",
     "collapsed": false,
     "input": [
      "sorted_by_move_pair = np.argsort(associated_move_pair_ids)\n",
      "sorted_by_move_pair"
     ],
     "language": "python",
     "metadata": {},
     "outputs": [
      {
       "metadata": {},
       "output_type": "pyout",
       "prompt_number": 16,
       "text": [
        "array([2, 0, 3, 1, 4])"
       ]
      }
     ],
     "prompt_number": 16
    },
    {
     "cell_type": "code",
     "collapsed": false,
     "input": [
      "min_index = np.where(associated_move_pair_ids\n",
      "                     [sorted_by_move_pair] >= 0)[0][0]\n",
      "deltas_by_move_pair = (delta_costs[sorted_by_move_pair[min_index::2]]\n",
      "                       + delta_costs[sorted_by_move_pair[min_index + 1::2]])\n",
      "deltas_by_move_pair"
     ],
     "language": "python",
     "metadata": {},
     "outputs": [
      {
       "metadata": {},
       "output_type": "pyout",
       "prompt_number": 17,
       "text": [
        "array([-42,  36])"
       ]
      }
     ],
     "prompt_number": 17
    },
    {
     "cell_type": "code",
     "collapsed": false,
     "input": [
      "assessments = np.array([deltas_by_move_pair[i] <= 0 if i >= 0 else False\n",
      "                        for i in associated_move_pair_ids])\n",
      "assessments"
     ],
     "language": "python",
     "metadata": {},
     "outputs": [
      {
       "metadata": {},
       "output_type": "pyout",
       "prompt_number": 18,
       "text": [
        "array([ True, False, False,  True, False], dtype=bool)"
       ]
      }
     ],
     "prompt_number": 18
    },
    {
     "cell_type": "code",
     "collapsed": false,
     "input": [
      "new_tour = tour[np.arange(cities_count) * ~assessments +\n",
      "                (np.arange(cities_count) + proposed_moves) * assessments]\n",
      "new_tour"
     ],
     "language": "python",
     "metadata": {},
     "outputs": [
      {
       "metadata": {},
       "output_type": "pyout",
       "prompt_number": 19,
       "text": [
        "array([3, 4, 1, 2, 0])"
       ]
      }
     ],
     "prompt_number": 19
    },
    {
     "cell_type": "code",
     "collapsed": false,
     "input": [
      "tour_cost(new_tour)"
     ],
     "language": "python",
     "metadata": {},
     "outputs": [
      {
       "metadata": {},
       "output_type": "pyout",
       "prompt_number": 20,
       "text": [
        "207"
       ]
      }
     ],
     "prompt_number": 20
    }
   ],
   "metadata": {}
  }
 ]
}