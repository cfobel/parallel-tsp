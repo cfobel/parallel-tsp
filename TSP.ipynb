{
 "metadata": {
  "name": "",
  "signature": "sha256:084e977490d78c16449b16f2bf7e15f3db83451385475589b81c66c7d2d5886b"
 },
 "nbformat": 3,
 "nbformat_minor": 0,
 "worksheets": [
  {
   "cells": [
    {
     "cell_type": "code",
     "collapsed": false,
     "input": [
      "from collections import OrderedDict\n",
      "\n",
      "import numpy as np\n",
      "import pandas as pd\n",
      "from IPython.display import display\n",
      "\n",
      "from fancy_table import fancy_table"
     ],
     "language": "python",
     "metadata": {},
     "outputs": [],
     "prompt_number": 70
    },
    {
     "cell_type": "code",
     "collapsed": false,
     "input": [
      "def tour_cost(tour):\n",
      "    left_city = tour[range(-1, cities_count - 1)]\n",
      "    left_pairs = np.array([tour, left_city])\n",
      "    left_pair_costs = np.array([distances[tuple(p)] for p in left_pairs.T])\n",
      "    return left_pair_costs.sum()\n",
      "\n",
      "\n",
      "def city_costs(tour):\n",
      "    left_city = tour[range(-1, cities_count - 1)]\n",
      "    right_city = tour[range(-cities_count + 1, 1)]\n",
      "    left_pairs = np.array([tour, left_city])\n",
      "    right_pairs = np.array([tour, right_city])\n",
      "    left_pair_costs = np.array([distances[tuple(p)] for p in left_pairs.T])\n",
      "    right_pair_costs = np.array([distances[tuple(p)]\n",
      "                                 for p in right_pairs.T])\n",
      "    return left_pair_costs + right_pair_costs\n",
      "\n",
      "\n",
      "def city_delta_costs(tour, proposed_moves):\n",
      "    pre_costs = city_costs(tour)\n",
      "    left_city = tour[np.arange(-1, cities_count - 1) + proposed_moves]\n",
      "    right_city = tour[np.arange(-cities_count + 1, 1) + proposed_moves]\n",
      "    left_pairs = np.array([tour, left_city])\n",
      "    right_pairs = np.array([tour, right_city])\n",
      "    left_pair_costs = np.array([distances[tuple(p)] for p in left_pairs.T])\n",
      "    right_pair_costs = np.array([distances[tuple(p)]\n",
      "                                 for p in right_pairs.T])\n",
      "    return (left_pair_costs + right_pair_costs) - pre_costs"
     ],
     "language": "python",
     "metadata": {},
     "outputs": [],
     "prompt_number": 144
    },
    {
     "cell_type": "code",
     "collapsed": false,
     "input": [
      "class MovePattern(object):\n",
      "    def __init__(self, magnitude, shift=0):\n",
      "        self.magnitude = magnitude\n",
      "        self.double_magnitude = 2 * magnitude\n",
      "        self.shift = shift\n",
      "\n",
      "    def __getitem__(self, i):\n",
      "        if self.magnitude == 0:\n",
      "            return 0\n",
      "        index = (i + 2 * self.double_magnitude -\n",
      "                 ((self.shift + self.magnitude + 1) % self.double_magnitude))\n",
      "        if (index % self.double_magnitude) < self.magnitude:\n",
      "            return self.magnitude\n",
      "        else:\n",
      "            return -self.magnitude\n",
      "        \n",
      "        \n",
      "def random_pattern_params(max_magnitude, extent, non_zero=True):\n",
      "    max_magnitude = min(extent - 1, max_magnitude)\n",
      "    magnitude = np.random.randint(0, max_magnitude + 1)\n",
      "    while non_zero and magnitude == 0:\n",
      "        magnitude = np.random.randint(0, max_magnitude + 1)\n",
      "\n",
      "    shift = 0\n",
      "\n",
      "    if magnitude > 0:\n",
      "        max_shift = 2 * magnitude - 1\n",
      "        if extent <= 2 * magnitude:\n",
      "            max_shift = magnitude - 1\n",
      "        shift = np.random.randint(max_shift + 1)\n",
      "\n",
      "    return magnitude, shift"
     ],
     "language": "python",
     "metadata": {},
     "outputs": [],
     "prompt_number": 164
    },
    {
     "cell_type": "heading",
     "level": 1,
     "metadata": {},
     "source": [
      "Algorithm summary"
     ]
    },
    {
     "cell_type": "markdown",
     "metadata": {},
     "source": [
      "<ol><li><a href=\"#Create-random-tour\">Create random tour</a></li><li><a href=\"#Identify-left-and-right-neighbour-of-each-tour-city\">Identify left and right neighbour of each tour city</a></li><li><a href=\"#Look-up-cost-to-left-and-right-neighbour-for-each-tour-city\">Look-up cost to left and right neighbour for each tour city</a></li><li><a href=\"#Propose-swaps-between-cities-in-the-tour\">Propose swaps between cities in the tour</a></li><li><a href=\"#Assign-cities-belonging-to-a-swap-a-common-identifier\">Assign cities belonging to a swap a common identifier</a></li><li><a href=\"#Calculate-estimated-difference-in-cost-for-each-swap\">Calculate estimated difference in cost for each swap</a></li><li><a href=\"#Assess-each-swap-(currently-greedy)\">Assess each swap </a></li><li><a href=\"#Apply-accepted-swaps-to-produce-new-tour\">Apply  swaps to produce new tour</a></li><li><a href=\"#Compute-total-cost-of-tour-with-all-proposed-moves-applied\">Compute total cost of tour with  proposed moves applied</a></li></ol>"
     ]
    },
    {
     "cell_type": "heading",
     "level": 1,
     "metadata": {},
     "source": [
      "Implementation"
     ]
    },
    {
     "cell_type": "code",
     "collapsed": false,
     "input": [
      "seed = 1314\n",
      "\n",
      "np.random.seed(seed)\n",
      "\n",
      "cities_count = 5\n",
      "distinct_pairs = [(i, j)\n",
      "                  for i in xrange(cities_count)\n",
      "                  for j in xrange(i + 1, cities_count)]\n",
      "distances_dict = OrderedDict(zip(distinct_pairs,\n",
      "                                 np.random.randint(0, 100,\n",
      "                                                   cities_count *\n",
      "                                                   (cities_count - 1) / 2)))\n",
      "display(distances_dict.items())\n",
      "distances = np.zeros((cities_count, cities_count), dtype=int)\n",
      "# distances[map(list, distances_dict.keys())] = distances_dict.values()\n",
      "distances[zip(*distances_dict.keys())] = distances_dict.values()\n",
      "distances.T[zip(*distances_dict.keys())] = distances_dict.values()\n",
      "distances"
     ],
     "language": "python",
     "metadata": {},
     "outputs": [
      {
       "metadata": {},
       "output_type": "display_data",
       "text": [
        "[((0, 1), 69),\n",
        " ((0, 2), 27),\n",
        " ((0, 3), 40),\n",
        " ((0, 4), 76),\n",
        " ((1, 2), 69),\n",
        " ((1, 3), 82),\n",
        " ((1, 4), 32),\n",
        " ((2, 3), 15),\n",
        " ((2, 4), 68),\n",
        " ((3, 4), 39)]"
       ]
      },
      {
       "metadata": {},
       "output_type": "pyout",
       "prompt_number": 145,
       "text": [
        "array([[ 0, 69, 27, 40, 76],\n",
        "       [69,  0, 69, 82, 32],\n",
        "       [27, 69,  0, 15, 68],\n",
        "       [40, 82, 15,  0, 39],\n",
        "       [76, 32, 68, 39,  0]])"
       ]
      }
     ],
     "prompt_number": 145
    },
    {
     "cell_type": "heading",
     "level": 3,
     "metadata": {},
     "source": [
      "Create random tour"
     ]
    },
    {
     "cell_type": "code",
     "collapsed": false,
     "input": [
      "tsp_data = pd.DataFrame(np.arange(cities_count), columns=['tour-city'])\n",
      "np.random.shuffle(tsp_data['tour-city'])"
     ],
     "language": "python",
     "metadata": {},
     "outputs": [],
     "prompt_number": 146
    },
    {
     "cell_type": "heading",
     "level": 3,
     "metadata": {},
     "source": [
      "Identify left and right neighbour of each tour city"
     ]
    },
    {
     "cell_type": "code",
     "collapsed": false,
     "input": [
      "tsp_data['left-city'] = tsp_data['tour-city'].values[range(-1, cities_count - 1)]\n",
      "tsp_data['right-city'] = tsp_data['tour-city'].values[range(-cities_count + 1, 1)]"
     ],
     "language": "python",
     "metadata": {},
     "outputs": [],
     "prompt_number": 148
    },
    {
     "cell_type": "heading",
     "level": 3,
     "metadata": {},
     "source": [
      "Look-up cost to left and right neighbour for each tour city"
     ]
    },
    {
     "cell_type": "code",
     "collapsed": false,
     "input": [
      "tsp_data['left-cost'] = [distances[v['tour-city'], v['left-city']]\n",
      "                         for k, v in tsp_data.iterrows()]\n",
      "tsp_data['right-cost'] = [distances[v['tour-city'], v['right-city']]\n",
      "                         for k, v in tsp_data.iterrows()]"
     ],
     "language": "python",
     "metadata": {},
     "outputs": [],
     "prompt_number": 149
    },
    {
     "cell_type": "code",
     "collapsed": false,
     "input": [
      "tour_cost(tsp_data['tour-city'].values)"
     ],
     "language": "python",
     "metadata": {},
     "outputs": [
      {
       "metadata": {},
       "output_type": "pyout",
       "prompt_number": 165,
       "text": [
        "249"
       ]
      }
     ],
     "prompt_number": 165
    },
    {
     "cell_type": "heading",
     "level": 3,
     "metadata": {},
     "source": [
      "Propose swaps between cities in the tour"
     ]
    },
    {
     "cell_type": "code",
     "collapsed": false,
     "input": [
      "pattern_params = random_pattern_params(cities_count - 1, cities_count - 1)\n",
      "move_pattern = MovePattern(*pattern_params)\n",
      "proposed_moves = [move_pattern[i] for i in xrange(cities_count)]\n",
      "proposed_moves = [m if i + m >= 0 and i + m < cities_count else 0\n",
      "                  for i, m in enumerate(proposed_moves)]\n",
      "proposed_moves"
     ],
     "language": "python",
     "metadata": {},
     "outputs": [
      {
       "metadata": {},
       "output_type": "pyout",
       "prompt_number": 153,
       "text": [
        "[3, 3, 0, -3, -3]"
       ]
      }
     ],
     "prompt_number": 153
    },
    {
     "cell_type": "heading",
     "level": 3,
     "metadata": {},
     "source": [
      "Assign cities belonging to a swap a common identifier"
     ]
    },
    {
     "cell_type": "code",
     "collapsed": false,
     "input": [
      "tsp_data['swap-id'] = np.array(\n",
      "    [i if m > 0 else i + m if m < 0 else -1\n",
      "     for i, m in enumerate(proposed_moves)])"
     ],
     "language": "python",
     "metadata": {},
     "outputs": [],
     "prompt_number": 166
    },
    {
     "cell_type": "heading",
     "level": 3,
     "metadata": {},
     "source": [
      "Calculate estimated difference in cost for each swap"
     ]
    },
    {
     "cell_type": "code",
     "collapsed": false,
     "input": [
      "sorted_by_move_pair = np.argsort(tsp_data['swap-id'].values)\n",
      "min_index = np.where(tsp_data['swap-id'].values\n",
      "                     [sorted_by_move_pair] >= 0)[0][0]\n",
      "min_index"
     ],
     "language": "python",
     "metadata": {},
     "outputs": [
      {
       "metadata": {},
       "output_type": "pyout",
       "prompt_number": 155,
       "text": [
        "1"
       ]
      }
     ],
     "prompt_number": 155
    },
    {
     "cell_type": "code",
     "collapsed": false,
     "input": [
      "tsp_data['swap-id'].values[sorted_by_move_pair]"
     ],
     "language": "python",
     "metadata": {},
     "outputs": [
      {
       "metadata": {},
       "output_type": "pyout",
       "prompt_number": 156,
       "text": [
        "array([-1,  0,  0,  1,  1])"
       ]
      }
     ],
     "prompt_number": 156
    },
    {
     "cell_type": "code",
     "collapsed": false,
     "input": [
      "tsp_data['delta-costs'] = city_delta_costs(tsp_data['tour-city'].values,\n",
      "                                           proposed_moves)"
     ],
     "language": "python",
     "metadata": {},
     "outputs": [],
     "prompt_number": 157
    },
    {
     "cell_type": "code",
     "collapsed": false,
     "input": [
      "tsp_data['swap-deltas'] = np.zeros_like(tsp_data['delta-costs'])"
     ],
     "language": "python",
     "metadata": {},
     "outputs": [],
     "prompt_number": 158
    },
    {
     "cell_type": "code",
     "collapsed": false,
     "input": [
      "move_pair_ids =  (tsp_data['swap-id'].values\n",
      "                  [sorted_by_move_pair[min_index::2]])"
     ],
     "language": "python",
     "metadata": {},
     "outputs": [],
     "prompt_number": 159
    },
    {
     "cell_type": "code",
     "collapsed": false,
     "input": [
      "swap_deltas = (\n",
      "    tsp_data['delta-costs'].values[sorted_by_move_pair[min_index::2]] +\n",
      "    tsp_data['delta-costs'].values[sorted_by_move_pair[min_index + 1::2]])\n",
      "tsp_data['swap-deltas'] = (\n",
      "    swap_deltas[tsp_data['swap-id'].values])"
     ],
     "language": "python",
     "metadata": {},
     "outputs": [],
     "prompt_number": 160
    },
    {
     "cell_type": "heading",
     "level": 3,
     "metadata": {},
     "source": [
      "Assess each swap _(currently greedy)_"
     ]
    },
    {
     "cell_type": "code",
     "collapsed": false,
     "input": [
      "tsp_data['assessment'] =  ((tsp_data['swap-deltas'].values <= 0) &\n",
      "                           (tsp_data['swap-id'] >= 0))"
     ],
     "language": "python",
     "metadata": {},
     "outputs": [],
     "prompt_number": 167
    },
    {
     "cell_type": "heading",
     "level": 3,
     "metadata": {},
     "source": [
      "Apply _accepted_ swaps to produce new tour"
     ]
    },
    {
     "cell_type": "code",
     "collapsed": false,
     "input": [
      "tsp_data['new-city'] = (tsp_data['tour-city'].values\n",
      "                        [np.arange(cities_count) *\n",
      "                         ~tsp_data['assessment'].values\n",
      "                         + (np.arange(cities_count) + proposed_moves) *\n",
      "                         tsp_data['assessment'].values])"
     ],
     "language": "python",
     "metadata": {},
     "outputs": []
    },
    {
     "cell_type": "code",
     "collapsed": false,
     "input": [
      "fancy_table(tsp_data, start_cols=['tour-city'])"
     ],
     "language": "python",
     "metadata": {},
     "outputs": [
      {
       "html": [
        "<div style=\"max-height:1000px;max-width:1500px;overflow:auto;\">\n",
        "<table border=\"1\" class=\"dataframe\">\n",
        "  <thead>\n",
        "    <tr style=\"text-align: right;\">\n",
        "      <th></th>\n",
        "      <th>tour-city</th>\n",
        "    </tr>\n",
        "  </thead>\n",
        "  <tbody>\n",
        "    <tr>\n",
        "      <th>0</th>\n",
        "      <td> 2</td>\n",
        "    </tr>\n",
        "    <tr>\n",
        "      <th>1</th>\n",
        "      <td> 4</td>\n",
        "    </tr>\n",
        "    <tr>\n",
        "      <th>2</th>\n",
        "      <td> 1</td>\n",
        "    </tr>\n",
        "    <tr>\n",
        "      <th>3</th>\n",
        "      <td> 3</td>\n",
        "    </tr>\n",
        "    <tr>\n",
        "      <th>4</th>\n",
        "      <td> 0</td>\n",
        "    </tr>\n",
        "  </tbody>\n",
        "</table>\n",
        "<p>5 rows \u00d7 1 columns</p>\n",
        "</div>"
       ],
       "metadata": {},
       "output_type": "display_data"
      }
     ],
     "prompt_number": 163
    },
    {
     "cell_type": "heading",
     "level": 3,
     "metadata": {},
     "source": [
      "Algorithm summary"
     ]
    },
    {
     "cell_type": "markdown",
     "metadata": {},
     "source": [
      "<ol><li><a href=\"#Create-random-tour\">Create random tour</a></li><li><a href=\"#Identify-left-and-right-neighbour-of-each-tour-city\">Identify left and right neighbour of each tour city</a></li><li><a href=\"#Look-up-cost-to-left-and-right-neighbour-for-each-tour-city\">Look-up cost to left and right neighbour for each tour city</a></li><li><a href=\"#Propose-swaps-between-cities-in-the-tour\">Propose swaps between cities in the tour</a></li><li><a href=\"#Assign-cities-belonging-to-a-swap-a-common-identifier\">Assign cities belonging to a swap a common identifier</a></li><li><a href=\"#Calculate-estimated-difference-in-cost-for-each-swap\">Calculate estimated difference in cost for each swap</a></li><li><a href=\"#Assess-each-swap-(currently-greedy)\">Assess each swap </a></li><li><a href=\"#Apply-accepted-swaps-to-produce-new-tour\">Apply  swaps to produce new tour</a></li><li><a href=\"#Compute-total-cost-of-tour-with-all-proposed-moves-applied\">Compute total cost of tour with  proposed moves applied</a></li></ol>"
     ]
    }
   ],
   "metadata": {}
  }
 ]
}