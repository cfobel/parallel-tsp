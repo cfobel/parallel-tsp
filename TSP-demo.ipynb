{
 "metadata": {
  "name": "",
  "signature": "sha256:09bebea3cc09d2af9b1314e558022c32115462d3810e323448fc8665128b12a5"
 },
 "nbformat": 3,
 "nbformat_minor": 0,
 "worksheets": [
  {
   "cells": [
    {
     "cell_type": "code",
     "collapsed": false,
     "input": [
      "%matplotlib inline"
     ],
     "language": "python",
     "metadata": {},
     "outputs": [
      {
       "output_type": "stream",
       "stream": "stderr",
       "text": [
        "/home/christian/.virtualenvs/vpr-x64/local/lib/python2.7/site-packages/matplotlib/__init__.py:740: UserWarning: Found matplotlib configuration in ~/.matplotlib/. To conform with the XDG base directory standard, this configuration location has been deprecated on Linux, and the new location is now '/home/christian/.config'/matplotlib/. Please move your configuration there to ensure that matplotlib will continue to find it in the future.\n",
        "  _get_xdg_config_dir())\n"
       ]
      }
     ],
     "prompt_number": 1
    },
    {
     "cell_type": "code",
     "collapsed": false,
     "input": [
      "from collections import OrderedDict\n",
      "\n",
      "import numpy as np\n",
      "import pandas as pd\n",
      "from IPython.display import display\n",
      "from IPython.html.widgets import IntSliderWidget, ContainerWidget\n",
      "import matplotlib.pyplot as plt"
     ],
     "language": "python",
     "metadata": {},
     "outputs": [],
     "prompt_number": 2
    },
    {
     "cell_type": "code",
     "collapsed": false,
     "input": [
      "def tour_cost(tour):\n",
      "    left_city = tour[range(-1, cities_count - 1)]\n",
      "    left_pairs = np.array([tour, left_city])\n",
      "    left_pair_costs = np.array([distances[tuple(p)] for p in left_pairs.T])\n",
      "    return left_pair_costs.sum()\n",
      "\n",
      "\n",
      "def city_costs(tour):\n",
      "    left_city = tour[range(-1, cities_count - 1)]\n",
      "    right_city = tour[range(-cities_count + 1, 1)]\n",
      "    left_pairs = np.array([tour, left_city])\n",
      "    right_pairs = np.array([tour, right_city])\n",
      "    left_pair_costs = np.array([distances[tuple(p)] for p in left_pairs.T])\n",
      "    right_pair_costs = np.array([distances[tuple(p)]\n",
      "                                 for p in right_pairs.T])\n",
      "    return left_pair_costs + right_pair_costs\n",
      "\n",
      "\n",
      "def city_delta_costs(tour, proposed_moves):\n",
      "    pre_costs = city_costs(tour)\n",
      "    left_city = tour[np.arange(-1, cities_count - 1) + proposed_moves]\n",
      "    right_city = tour[np.arange(-cities_count + 1, 1) + proposed_moves]\n",
      "    left_pairs = np.array([tour, left_city])\n",
      "    right_pairs = np.array([tour, right_city])\n",
      "    left_pair_costs = np.array([distances[tuple(p)] for p in left_pairs.T])\n",
      "    right_pair_costs = np.array([distances[tuple(p)]\n",
      "                                 for p in right_pairs.T])\n",
      "    return (left_pair_costs + right_pair_costs) - pre_costs"
     ],
     "language": "python",
     "metadata": {},
     "outputs": [],
     "prompt_number": 3
    },
    {
     "cell_type": "code",
     "collapsed": false,
     "input": [
      "class MovePattern(object):\n",
      "    def __init__(self, magnitude, shift=0):\n",
      "        self.magnitude = magnitude\n",
      "        self.double_magnitude = 2 * magnitude\n",
      "        self.shift = shift\n",
      "\n",
      "    def __getitem__(self, i):\n",
      "        if self.magnitude == 0:\n",
      "            return 0\n",
      "        index = (i + 2 * self.double_magnitude -\n",
      "                 ((self.shift + self.magnitude + 1) % self.double_magnitude))\n",
      "        if (index % self.double_magnitude) < self.magnitude:\n",
      "            return self.magnitude\n",
      "        else:\n",
      "            return -self.magnitude\n",
      "        \n",
      "        \n",
      "def random_pattern_params(max_magnitude, extent, non_zero=True):\n",
      "    max_magnitude = min(extent - 1, max_magnitude)\n",
      "    magnitude = np.random.randint(0, max_magnitude + 1)\n",
      "    while non_zero and magnitude == 0:\n",
      "        magnitude = np.random.randint(0, max_magnitude + 1)\n",
      "\n",
      "    shift = 0\n",
      "\n",
      "    if magnitude > 0:\n",
      "        max_shift = 2 * magnitude - 1\n",
      "        if extent <= 2 * magnitude:\n",
      "            max_shift = magnitude - 1\n",
      "        shift = np.random.randint(max_shift + 1)\n",
      "\n",
      "    return magnitude, shift"
     ],
     "language": "python",
     "metadata": {},
     "outputs": [],
     "prompt_number": 4
    },
    {
     "cell_type": "code",
     "collapsed": false,
     "input": [
      "def propose_moves(cities_count, max_distance=None):\n",
      "    if max_distance is None:\n",
      "        max_distance = cities_count - 1\n",
      "    max_distance = min(max_distance, cities_count - 1)\n",
      "    pattern_params = random_pattern_params(max_distance, cities_count - 1)\n",
      "    move_pattern = MovePattern(*pattern_params)\n",
      "    proposed_moves = [move_pattern[i] for i in xrange(cities_count)]\n",
      "    proposed_moves = [m if i + m >= 0 and i + m < cities_count else 0\n",
      "                      for i, m in enumerate(proposed_moves)]\n",
      "    return proposed_moves"
     ],
     "language": "python",
     "metadata": {},
     "outputs": [],
     "prompt_number": 5
    },
    {
     "cell_type": "code",
     "collapsed": false,
     "input": [
      "def iterate_search(tour, max_distance=None):\n",
      "    proposed_moves = propose_moves(len(tour), max_distance=max_distance)\n",
      "    delta_costs = city_delta_costs(tour, proposed_moves)\n",
      "\n",
      "    associated_move_pair_ids = np.array([i if m > 0 else i + m if m < 0 else -1\n",
      "                                         for i, m in enumerate(proposed_moves)])\n",
      "    sorted_by_move_pair = np.argsort(associated_move_pair_ids)\n",
      "\n",
      "    min_index = np.where(associated_move_pair_ids\n",
      "                         [sorted_by_move_pair] >= 0)[0][0]\n",
      "\n",
      "    move_pair_ids = (associated_move_pair_ids\n",
      "                     [sorted_by_move_pair[min_index::2]])\n",
      "    delta_costs[move_pair_ids] = (\n",
      "        delta_costs[sorted_by_move_pair[min_index::2]] +\n",
      "        delta_costs[sorted_by_move_pair[min_index + 1::2]])\n",
      "    try:\n",
      "        assessments = np.array([delta_costs[i] <= 0\n",
      "                                if i >= 0 else False\n",
      "                                for i in associated_move_pair_ids])\n",
      "    except:\n",
      "        print 'i:', i\n",
      "        print associated_move_pair_ids\n",
      "        print deltas_by_move_pair\n",
      "        raise\n",
      "    new_tour = tour[np.arange(cities_count) * ~assessments +\n",
      "                    (np.arange(cities_count) + proposed_moves) * assessments]\n",
      "    return new_tour"
     ],
     "language": "python",
     "metadata": {},
     "outputs": [],
     "prompt_number": 6
    },
    {
     "cell_type": "code",
     "collapsed": false,
     "input": [
      "cities_count_slider = IntSliderWidget(min=10, max=1000, value=100,\n",
      "                                      description='Cities count')\n",
      "seed_slider = IntSliderWidget(min=1, max=1000, value=42, description='Seed')\n",
      "display(cities_count_slider)\n",
      "display(seed_slider)"
     ],
     "language": "python",
     "metadata": {},
     "outputs": [],
     "prompt_number": 29
    },
    {
     "cell_type": "code",
     "collapsed": false,
     "input": [
      "seed = seed_slider.value\n",
      "cities_count = cities_count_slider.value\n",
      "\n",
      "np.random.seed(seed)\n",
      "\n",
      "distinct_pairs = [(i, j)\n",
      "                  for i in xrange(cities_count)\n",
      "                  for j in xrange(i + 1, cities_count)]\n",
      "distances_dict = OrderedDict(zip(distinct_pairs,\n",
      "                                 np.random.randint(0, 100,\n",
      "                                                   cities_count *\n",
      "                                                   (cities_count - 1) / 2)))\n",
      "distances = np.zeros((cities_count, cities_count), dtype=int)\n",
      "# distances[map(list, distances_dict.keys())] = distances_dict.values()\n",
      "distances[zip(*distances_dict.keys())] = distances_dict.values()\n",
      "distances.T[zip(*distances_dict.keys())] = distances_dict.values()"
     ],
     "language": "python",
     "metadata": {},
     "outputs": [],
     "prompt_number": 47
    },
    {
     "cell_type": "heading",
     "level": 3,
     "metadata": {},
     "source": [
      "Starting cost"
     ]
    },
    {
     "cell_type": "code",
     "collapsed": false,
     "input": [
      "tour = np.arange(cities_count)\n",
      "np.random.shuffle(tour)"
     ],
     "language": "python",
     "metadata": {},
     "outputs": [],
     "prompt_number": 48
    },
    {
     "cell_type": "code",
     "collapsed": false,
     "input": [
      "starting_cost = tour_cost(tour)\n",
      "starting_cost"
     ],
     "language": "python",
     "metadata": {},
     "outputs": [
      {
       "metadata": {},
       "output_type": "pyout",
       "prompt_number": 49,
       "text": [
        "4767"
       ]
      }
     ],
     "prompt_number": 49
    },
    {
     "cell_type": "code",
     "collapsed": false,
     "input": [
      "costs = [starting_cost]\n",
      "for i in xrange(200):\n",
      "    tour = iterate_search(tour)\n",
      "    costs.append(tour_cost(tour))"
     ],
     "language": "python",
     "metadata": {},
     "outputs": [],
     "prompt_number": 50
    },
    {
     "cell_type": "code",
     "collapsed": false,
     "input": [
      "plt.plot(costs)\n",
      "display(costs[0])\n",
      "display(costs[-1])"
     ],
     "language": "python",
     "metadata": {},
     "outputs": [
      {
       "metadata": {},
       "output_type": "display_data",
       "text": [
        "4767"
       ]
      },
      {
       "metadata": {},
       "output_type": "display_data",
       "text": [
        "1318"
       ]
      },
      {
       "metadata": {},
       "output_type": "display_data",
       "png": "[encoded data removed]",
       "text": [
        "<matplotlib.figure.Figure at 0x7f87245d7350>"
       ]
      }
     ],
     "prompt_number": 51
    }
   ],
   "metadata": {}
  }
 ]
}